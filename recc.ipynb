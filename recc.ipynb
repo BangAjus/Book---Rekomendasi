{
 "cells": [
  {
   "cell_type": "code",
   "execution_count": 1,
   "metadata": {},
   "outputs": [],
   "source": [
    "import pandas as pd\n",
    "import numpy as np"
   ]
  },
  {
   "cell_type": "code",
   "execution_count": 2,
   "metadata": {},
   "outputs": [
    {
     "name": "stderr",
     "output_type": "stream",
     "text": [
      "C:\\Users\\User\\AppData\\Local\\Temp\\ipykernel_23404\\2329617274.py:1: DtypeWarning: Columns (3) have mixed types. Specify dtype option on import or set low_memory=False.\n",
      "  df = pd.read_csv('Books.csv').drop(columns=['Image-URL-S',\n"
     ]
    },
    {
     "data": {
      "text/html": [
       "<div>\n",
       "<style scoped>\n",
       "    .dataframe tbody tr th:only-of-type {\n",
       "        vertical-align: middle;\n",
       "    }\n",
       "\n",
       "    .dataframe tbody tr th {\n",
       "        vertical-align: top;\n",
       "    }\n",
       "\n",
       "    .dataframe thead th {\n",
       "        text-align: right;\n",
       "    }\n",
       "</style>\n",
       "<table border=\"1\" class=\"dataframe\">\n",
       "  <thead>\n",
       "    <tr style=\"text-align: right;\">\n",
       "      <th></th>\n",
       "      <th>ISBN</th>\n",
       "      <th>Book-Title</th>\n",
       "      <th>Book-Author</th>\n",
       "      <th>Year-Of-Publication</th>\n",
       "      <th>Publisher</th>\n",
       "      <th>User-ID</th>\n",
       "      <th>Book-Rating</th>\n",
       "    </tr>\n",
       "  </thead>\n",
       "  <tbody>\n",
       "    <tr>\n",
       "      <th>0</th>\n",
       "      <td>0195153448</td>\n",
       "      <td>Classical Mythology</td>\n",
       "      <td>Mark P. O. Morford</td>\n",
       "      <td>2002</td>\n",
       "      <td>Oxford University Press</td>\n",
       "      <td>2</td>\n",
       "      <td>0</td>\n",
       "    </tr>\n",
       "    <tr>\n",
       "      <th>1</th>\n",
       "      <td>0002005018</td>\n",
       "      <td>Clara Callan</td>\n",
       "      <td>Richard Bruce Wright</td>\n",
       "      <td>2001</td>\n",
       "      <td>HarperFlamingo Canada</td>\n",
       "      <td>8</td>\n",
       "      <td>5</td>\n",
       "    </tr>\n",
       "    <tr>\n",
       "      <th>2</th>\n",
       "      <td>0002005018</td>\n",
       "      <td>Clara Callan</td>\n",
       "      <td>Richard Bruce Wright</td>\n",
       "      <td>2001</td>\n",
       "      <td>HarperFlamingo Canada</td>\n",
       "      <td>11400</td>\n",
       "      <td>0</td>\n",
       "    </tr>\n",
       "    <tr>\n",
       "      <th>3</th>\n",
       "      <td>0002005018</td>\n",
       "      <td>Clara Callan</td>\n",
       "      <td>Richard Bruce Wright</td>\n",
       "      <td>2001</td>\n",
       "      <td>HarperFlamingo Canada</td>\n",
       "      <td>11676</td>\n",
       "      <td>8</td>\n",
       "    </tr>\n",
       "    <tr>\n",
       "      <th>4</th>\n",
       "      <td>0002005018</td>\n",
       "      <td>Clara Callan</td>\n",
       "      <td>Richard Bruce Wright</td>\n",
       "      <td>2001</td>\n",
       "      <td>HarperFlamingo Canada</td>\n",
       "      <td>41385</td>\n",
       "      <td>0</td>\n",
       "    </tr>\n",
       "  </tbody>\n",
       "</table>\n",
       "</div>"
      ],
      "text/plain": [
       "         ISBN           Book-Title           Book-Author Year-Of-Publication  \\\n",
       "0  0195153448  Classical Mythology    Mark P. O. Morford                2002   \n",
       "1  0002005018         Clara Callan  Richard Bruce Wright                2001   \n",
       "2  0002005018         Clara Callan  Richard Bruce Wright                2001   \n",
       "3  0002005018         Clara Callan  Richard Bruce Wright                2001   \n",
       "4  0002005018         Clara Callan  Richard Bruce Wright                2001   \n",
       "\n",
       "                 Publisher  User-ID  Book-Rating  \n",
       "0  Oxford University Press        2            0  \n",
       "1    HarperFlamingo Canada        8            5  \n",
       "2    HarperFlamingo Canada    11400            0  \n",
       "3    HarperFlamingo Canada    11676            8  \n",
       "4    HarperFlamingo Canada    41385            0  "
      ]
     },
     "execution_count": 2,
     "metadata": {},
     "output_type": "execute_result"
    }
   ],
   "source": [
    "df = pd.read_csv('Books.csv').drop(columns=['Image-URL-S',\n",
    "                                             'Image-URL-M',\n",
    "                                             'Image-URL-L'])\\\n",
    "        .merge(pd.read_csv('Ratings.csv'),\n",
    "               on='ISBN')\n",
    "\n",
    "df.head()"
   ]
  },
  {
   "cell_type": "markdown",
   "metadata": {},
   "source": [
    "# Data Cleaning"
   ]
  },
  {
   "cell_type": "markdown",
   "metadata": {},
   "source": [
    "## Membersihkan data Null"
   ]
  },
  {
   "cell_type": "code",
   "execution_count": 3,
   "metadata": {},
   "outputs": [],
   "source": [
    "df.dropna(inplace=True)"
   ]
  },
  {
   "cell_type": "markdown",
   "metadata": {},
   "source": [
    "## Mengambil hanya beberapa sampel data"
   ]
  },
  {
   "cell_type": "code",
   "execution_count": 4,
   "metadata": {},
   "outputs": [],
   "source": [
    "df = df.loc[:25000]"
   ]
  },
  {
   "cell_type": "markdown",
   "metadata": {},
   "source": [
    "# Data Understanding"
   ]
  },
  {
   "cell_type": "markdown",
   "metadata": {},
   "source": [
    "## Melihat kondisi data"
   ]
  },
  {
   "cell_type": "code",
   "execution_count": 5,
   "metadata": {},
   "outputs": [
    {
     "name": "stdout",
     "output_type": "stream",
     "text": [
      "<class 'pandas.core.frame.DataFrame'>\n",
      "Int64Index: 25001 entries, 0 to 25000\n",
      "Data columns (total 7 columns):\n",
      " #   Column               Non-Null Count  Dtype \n",
      "---  ------               --------------  ----- \n",
      " 0   ISBN                 25001 non-null  object\n",
      " 1   Book-Title           25001 non-null  object\n",
      " 2   Book-Author          25001 non-null  object\n",
      " 3   Year-Of-Publication  25001 non-null  object\n",
      " 4   Publisher            25001 non-null  object\n",
      " 5   User-ID              25001 non-null  int64 \n",
      " 6   Book-Rating          25001 non-null  int64 \n",
      "dtypes: int64(2), object(5)\n",
      "memory usage: 1.5+ MB\n"
     ]
    }
   ],
   "source": [
    "df.info()"
   ]
  },
  {
   "cell_type": "markdown",
   "metadata": {},
   "source": [
    "## Melihat berapa banyak buku, penulis dan penerbit"
   ]
  },
  {
   "cell_type": "code",
   "execution_count": 6,
   "metadata": {},
   "outputs": [
    {
     "name": "stdout",
     "output_type": "stream",
     "text": [
      "Book-Title :  406\n",
      "Book-Author :  334\n",
      "Publisher :  214\n"
     ]
    }
   ],
   "source": [
    "for i in ['Book-Title', 'Book-Author', 'Publisher']:\n",
    "\n",
    "    print(f'{i} :  {len(df[i].unique())}')"
   ]
  },
  {
   "cell_type": "markdown",
   "metadata": {},
   "source": [
    "## Univariative Data Analysis"
   ]
  },
  {
   "cell_type": "code",
   "execution_count": 7,
   "metadata": {},
   "outputs": [
    {
     "name": "stdout",
     "output_type": "stream",
     "text": [
      "       Book-Author  Count\n",
      "0     Rich Shapero   2502\n",
      "1     John Grisham   1572\n",
      "2        Dan Brown   1108\n",
      "3     Alice Sebold    817\n",
      "4  James Patterson    735\n",
      "          Publisher  Count\n",
      "0           Too Far   2502\n",
      "1  Ballantine Books   1918\n",
      "2     Little, Brown   1579\n",
      "3            Pocket   1439\n",
      "4         Perennial   1152\n"
     ]
    },
    {
     "data": {
      "image/png": "[encoded data removed]",
      "text/plain": [
       "<Figure size 432x288 with 1 Axes>"
      ]
     },
     "metadata": {
      "needs_background": "light"
     },
     "output_type": "display_data"
    },
    {
     "data": {
      "image/png": "[encoded data removed]",
      "text/plain": [
       "<Figure size 432x288 with 1 Axes>"
      ]
     },
     "metadata": {
      "needs_background": "light"
     },
     "output_type": "display_data"
    }
   ],
   "source": [
    "for i in ['Book-Author', 'Publisher']:\n",
    "\n",
    "    data = df[i].value_counts()\n",
    "    data = pd.DataFrame({i:data.index,\n",
    "                         'Count':data.values})\n",
    "    print(data.head(5))\n",
    "    data.head(5).plot.bar(x=i,\n",
    "                          y='Count')"
   ]
  },
  {
   "cell_type": "markdown",
   "metadata": {},
   "source": [
    "## Multivariative Data Analysis"
   ]
  },
  {
   "cell_type": "code",
   "execution_count": 8,
   "metadata": {},
   "outputs": [
    {
     "name": "stdout",
     "output_type": "stream",
     "text": [
      "                     Book-Rating\n",
      "Book-Author                     \n",
      "Raymond Chandler            10.0\n",
      "Sandra Levy Ceren           10.0\n",
      "Joanna Trollope             10.0\n",
      "Charles Noland              10.0\n",
      "Jose Ortega Y Gaset          8.0\n",
      "                                    Book-Rating\n",
      "Publisher                                      \n",
      "1stBooks Library                           10.0\n",
      "Ullstein Tb                                10.0\n",
      "Andrew Scott Publishers                    10.0\n",
      "Deutscher Taschenbuch Verlag (DTV)          9.5\n",
      "William Morrow                              9.5\n"
     ]
    },
    {
     "data": {
      "image/png": "[encoded data removed]",
      "text/plain": [
       "<Figure size 432x288 with 1 Axes>"
      ]
     },
     "metadata": {
      "needs_background": "light"
     },
     "output_type": "display_data"
    },
    {
     "data": {
      "image/png": "[encoded data removed]",
      "text/plain": [
       "<Figure size 432x288 with 1 Axes>"
      ]
     },
     "metadata": {
      "needs_background": "light"
     },
     "output_type": "display_data"
    }
   ],
   "source": [
    "for i in ['Book-Author', 'Publisher']:\n",
    "\n",
    "    data = df.groupby(i).agg({'Book-Rating':'mean'})\n",
    "    print(data.sort_values(by='Book-Rating', ascending=False)\\\n",
    "              .head(5))\n",
    "    data.sort_values(by='Book-Rating', ascending=False)\\\n",
    "        .head(5)\\\n",
    "        .plot.bar(y='Book-Rating',\n",
    "                  color=['g', 'navy', 'y', 'r', 'purple'])"
   ]
  },
  {
   "cell_type": "markdown",
   "metadata": {},
   "source": [
    "# Data Preparation (Content-Based)"
   ]
  },
  {
   "cell_type": "markdown",
   "metadata": {},
   "source": [
    "## Membuat vectorizer tf-idf dari variabel yang dipilih"
   ]
  },
  {
   "cell_type": "code",
   "execution_count": 9,
   "metadata": {},
   "outputs": [],
   "source": [
    "from sklearn.feature_extraction.text import TfidfVectorizer"
   ]
  },
  {
   "cell_type": "code",
   "execution_count": 10,
   "metadata": {},
   "outputs": [
    {
     "data": {
      "text/plain": [
       "array(['abraham', 'abrahams', 'adam', 'adams', 'adler', 'al', 'alan',\n",
       "       'albom', 'alcott', 'aleksandr', 'alexander', 'alice', 'allen',\n",
       "       'allende', 'amp', 'amy', 'anderson', 'andrea', 'anita', 'ann',\n",
       "       'anna', 'anne', 'ansay', 'anthony', 'antoine', 'arabella',\n",
       "       'armstrong', 'arthur', 'arundhati', 'ashley', 'austen', 'auster',\n",
       "       'bach', 'baldacci', 'barbara', 'barber', 'bari', 'barker',\n",
       "       'barnard', 'barr', 'barrett', 'barrie', 'barry', 'beale',\n",
       "       'beattie', 'belva', 'ben', 'benjamin', 'berendt', 'bernard',\n",
       "       'bernie', 'bernieres', 'betty', 'bill', 'binchy', 'blyton', 'bob',\n",
       "       'boyle', 'bradbury', 'brady', 'brashares', 'braun', 'brian',\n",
       "       'bridwell', 'brin', 'brooks', 'brown', 'bruce', 'byatt', 'cahill',\n",
       "       'canfield', 'carcaterra', 'carl', 'carlo', 'carol', 'carroll',\n",
       "       'cather', 'celia', 'ceren', 'chandler', 'chapman', 'charles',\n",
       "       'charlotte', 'cheryl', 'chevalier', 'chopra', 'christopher',\n",
       "       'chuck', 'clairday', 'clancy', 'clara', 'clark', 'coelho',\n",
       "       'colleen', 'conrad', 'cooney', 'coraghessan', 'cordingly',\n",
       "       'cornwell', 'cowley', 'crabb', 'crichton', 'crow', 'crusie',\n",
       "       'cunningham', 'cybill', 'dahl', 'dan', 'dana', 'daphne', 'darnton',\n",
       "       'datlow', 'dave', 'davenport', 'david', 'de', 'dean', 'deepak',\n",
       "       'delinsky', 'demirkan', 'dereske', 'desai', 'dick', 'dickens',\n",
       "       'dixon', 'dog', 'dolores', 'donald', 'donna', 'douglas', 'drax',\n",
       "       'du', 'duey', 'duncan', 'dunsany', 'eddings', 'edna', 'edward',\n",
       "       'eleanor', 'elizabeth', 'ellen', 'enid', 'erich', 'este',\n",
       "       'estleman', 'exupã', 'farley', 'fay', 'fielding', 'fisher',\n",
       "       'florence', 'follett', 'francine', 'francis', 'frank', 'frankel',\n",
       "       'franken', 'franklin', 'franzen', 'frasier', 'frederick', 'frei',\n",
       "       'friedman', 'frum', 'gabriel', 'gaiman', 'galsworthy', 'garcia',\n",
       "       'gaset', 'gayle', 'george', 'georgette', 'gina', 'glendon',\n",
       "       'golden', 'golding', 'goldsmith', 'gonzalez', 'gordon', 'grahame',\n",
       "       'grant', 'greg', 'gregory', 'grisham', 'grizzard', 'haddon',\n",
       "       'hand', 'hans', 'hara', 'hardy', 'harper', 'harperreference',\n",
       "       'harris', 'hartwell', 'haruf', 'havner', 'hawthorne', 'heinlein',\n",
       "       'helen', 'heller', 'helprin', 'hendrickson', 'heti', 'heyer',\n",
       "       'hickam', 'hickey', 'hidier', 'higgins', 'hill', 'hillenbrand',\n",
       "       'hillerman', 'hoefer', 'hoff', 'holland', 'holly', 'holt', 'homer',\n",
       "       'hooper', 'hudson', 'hughes', 'hulse', 'hutchins', 'hutsko', 'ian',\n",
       "       'iglehart', 'irene', 'iris', 'irving', 'isabel', 'isabelle',\n",
       "       'jack', 'jackson', 'james', 'jan', 'jane', 'jaramillo', 'jean',\n",
       "       'jennifer', 'jerome', 'jetmundsen', 'jo', 'joan', 'joanna',\n",
       "       'joanne', 'joe', 'johannes', 'johansen', 'john', 'jonathan',\n",
       "       'jose', 'joseph', 'joyce', 'jr', 'judith', 'julia', 'junger',\n",
       "       'kaiser', 'kane', 'karen', 'kate', 'kathleen', 'kaufman', 'kay',\n",
       "       'kelman', 'ken', 'kenneth', 'kent', 'kettl', 'kevin', 'kiana',\n",
       "       'kidd', 'kierkegaard', 'king', 'kingsolver', 'kinsella',\n",
       "       'kiyosaki', 'kolata', 'koontz', 'krieger', 'kundera', 'lahaye',\n",
       "       'lamour', 'landvik', 'larry', 'laura', 'lawrence', 'lawson',\n",
       "       'lebor', 'lee', 'levinson', 'levy', 'lewis', 'lilian', 'linda',\n",
       "       'lindskold', 'link', 'lint', 'lois', 'lopez', 'loren', 'lorenzo',\n",
       "       'lorna', 'louis', 'louisa', 'louise', 'love', 'ltd', 'lucado',\n",
       "       'lurlene', 'lynda', 'machiavelli', 'madaras', 'maeve', 'maguire',\n",
       "       'malachy', 'manette', 'margaret', 'mari', 'mark', 'maron',\n",
       "       'marquez', 'martel', 'martin', 'mary', 'marzollo', 'maurier',\n",
       "       'mawer', 'max', 'may', 'mccall', 'mccauley', 'mcclone', 'mccourt',\n",
       "       'mccullough', 'mcdaniel', 'mcewan', 'mcmurtry', 'md', 'melissa',\n",
       "       'metzger', 'mezrich', 'michael', 'michel', 'michele', 'mike',\n",
       "       'milan', 'milne', 'mitch', 'mixon', 'monk', 'moody', 'moore',\n",
       "       'mordecai', 'moreton', 'morford', 'morgan', 'morrell', 'morrison',\n",
       "       'muriel', 'murphy', 'nan', 'napoli', 'nathaniel', 'neal', 'neil',\n",
       "       'nevada', 'niccolo', 'nicholas', 'nick', 'noland', 'nora',\n",
       "       'norman', 'north', 'oliver', 'olivia', 'olsen', 'ondaatje',\n",
       "       'onion', 'ortega', 'orwell', 'oscar', 'page', 'palast', 'palmer',\n",
       "       'pam', 'paolo', 'parker', 'parrish', 'pat', 'patchett', 'patricia',\n",
       "       'patterson', 'paul', 'pavlou', 'payne', 'pearl', 'penn', 'perry',\n",
       "       'philip', 'phillips', 'piers', 'pirolo', 'plain', 'plunkett',\n",
       "       'pratchett', 'proctor', 'pullman', 'quayle', 'rachel', 'ray',\n",
       "       'raymond', 'rebecca', 'reeve', 'reiser', 'renan', 'rendell',\n",
       "       'rennison', 'rex', 'rice', 'rich', 'richard', 'richards',\n",
       "       'richler', 'rips', 'rita', 'rivers', 'roald', 'robb', 'robert',\n",
       "       'roberts', 'robinson', 'robynn', 'rourke', 'rousseau', 'roy',\n",
       "       'rule', 'ruth', 'ry', 'sagan', 'saint', 'salinger', 'salzman',\n",
       "       'sandoz', 'sandra', 'sarah', 'saul', 'schenk', 'schiller', 'scott',\n",
       "       'sebastian', 'sebold', 'segal', 'sewell', 'shakespeare', 'shapero',\n",
       "       'sheila', 'shelley', 'shepherd', 'shirley', 'shreve', 'siddons',\n",
       "       'siegel', 'simon', 'simonton', 'simã³', 'sjogren', 'sleator',\n",
       "       'smiley', 'smith', 'sophie', 'soren', 'sparks', 'st', 'staples',\n",
       "       'stel', 'stephan', 'stephen', 'steve', 'stewart', 'stout',\n",
       "       'stuart', 'sue', 'suggs', 'sullivan', 'susan', 'suzanne',\n",
       "       'swarthout', 'tan', 'tanuja', 'tartt', 'ted', 'terry', 'thayer',\n",
       "       'the', 'theodore', 'theroux', 'thiele', 'thomas', 'tim', 'tolkien',\n",
       "       'tom', 'toni', 'tony', 'tournier', 'townsend', 'tracy', 'trollope',\n",
       "       'trudy', 'turow', 'twain', 'tyler', 'udall', 'upfield', 'valerie',\n",
       "       'vance', 'vine', 'virden', 'waller', 'walter', 'warren', 'waters',\n",
       "       'webster', 'weir', 'weldon', 'wells', 'westall', 'whitaker',\n",
       "       'white', 'wick', 'wiersbe', 'wilde', 'willa', 'william', 'wolf',\n",
       "       'wolfe', 'wolff', 'wollstonecraft', 'woodiwiss', 'woodruff',\n",
       "       'woods', 'works', 'wright', 'yann', 'zimler', 'zinoviev'],\n",
       "      dtype=object)"
      ]
     },
     "execution_count": 10,
     "metadata": {},
     "output_type": "execute_result"
    }
   ],
   "source": [
    "vector = TfidfVectorizer()\n",
    "\n",
    "vector.fit(df['Book-Author'])\n",
    "vector.get_feature_names_out()"
   ]
  },
  {
   "cell_type": "markdown",
   "metadata": {},
   "source": [
    "## Membuat matriks tf-idf"
   ]
  },
  {
   "cell_type": "code",
   "execution_count": 11,
   "metadata": {},
   "outputs": [
    {
     "data": {
      "text/plain": [
       "(25001, 545)"
      ]
     },
     "execution_count": 11,
     "metadata": {},
     "output_type": "execute_result"
    }
   ],
   "source": [
    "tfidf_matrix = vector.fit_transform(df['Book-Author'])\n",
    "tfidf_matrix.shape "
   ]
  },
  {
   "cell_type": "code",
   "execution_count": 12,
   "metadata": {},
   "outputs": [
    {
     "data": {
      "text/html": [
       "<div>\n",
       "<style scoped>\n",
       "    .dataframe tbody tr th:only-of-type {\n",
       "        vertical-align: middle;\n",
       "    }\n",
       "\n",
       "    .dataframe tbody tr th {\n",
       "        vertical-align: top;\n",
       "    }\n",
       "\n",
       "    .dataframe thead th {\n",
       "        text-align: right;\n",
       "    }\n",
       "</style>\n",
       "<table border=\"1\" class=\"dataframe\">\n",
       "  <thead>\n",
       "    <tr style=\"text-align: right;\">\n",
       "      <th></th>\n",
       "      <th>morrison</th>\n",
       "      <th>lopez</th>\n",
       "      <th>eleanor</th>\n",
       "      <th>salinger</th>\n",
       "      <th>heti</th>\n",
       "      <th>plunkett</th>\n",
       "      <th>schiller</th>\n",
       "      <th>ondaatje</th>\n",
       "      <th>holt</th>\n",
       "      <th>al</th>\n",
       "      <th>...</th>\n",
       "      <th>rich</th>\n",
       "      <th>heyer</th>\n",
       "      <th>kaufman</th>\n",
       "      <th>maron</th>\n",
       "      <th>wolfe</th>\n",
       "      <th>rousseau</th>\n",
       "      <th>fay</th>\n",
       "      <th>zimler</th>\n",
       "      <th>grahame</th>\n",
       "      <th>franken</th>\n",
       "    </tr>\n",
       "    <tr>\n",
       "      <th>Book-Title</th>\n",
       "      <th></th>\n",
       "      <th></th>\n",
       "      <th></th>\n",
       "      <th></th>\n",
       "      <th></th>\n",
       "      <th></th>\n",
       "      <th></th>\n",
       "      <th></th>\n",
       "      <th></th>\n",
       "      <th></th>\n",
       "      <th></th>\n",
       "      <th></th>\n",
       "      <th></th>\n",
       "      <th></th>\n",
       "      <th></th>\n",
       "      <th></th>\n",
       "      <th></th>\n",
       "      <th></th>\n",
       "      <th></th>\n",
       "      <th></th>\n",
       "      <th></th>\n",
       "    </tr>\n",
       "  </thead>\n",
       "  <tbody>\n",
       "    <tr>\n",
       "      <th>The Ruby in the Smoke (Sally Lockhart Trilogy, Book 1)</th>\n",
       "      <td>0.0</td>\n",
       "      <td>0.0</td>\n",
       "      <td>0.0</td>\n",
       "      <td>0.0</td>\n",
       "      <td>0.0</td>\n",
       "      <td>0.0</td>\n",
       "      <td>0.0</td>\n",
       "      <td>0.0</td>\n",
       "      <td>0.0</td>\n",
       "      <td>0.0</td>\n",
       "      <td>...</td>\n",
       "      <td>0.000000</td>\n",
       "      <td>0.0</td>\n",
       "      <td>0.0</td>\n",
       "      <td>0.0</td>\n",
       "      <td>0.0</td>\n",
       "      <td>0.0</td>\n",
       "      <td>0.0</td>\n",
       "      <td>0.0</td>\n",
       "      <td>0.0</td>\n",
       "      <td>0.0</td>\n",
       "    </tr>\n",
       "    <tr>\n",
       "      <th>The Catcher in the Rye</th>\n",
       "      <td>0.0</td>\n",
       "      <td>0.0</td>\n",
       "      <td>0.0</td>\n",
       "      <td>1.0</td>\n",
       "      <td>0.0</td>\n",
       "      <td>0.0</td>\n",
       "      <td>0.0</td>\n",
       "      <td>0.0</td>\n",
       "      <td>0.0</td>\n",
       "      <td>0.0</td>\n",
       "      <td>...</td>\n",
       "      <td>0.000000</td>\n",
       "      <td>0.0</td>\n",
       "      <td>0.0</td>\n",
       "      <td>0.0</td>\n",
       "      <td>0.0</td>\n",
       "      <td>0.0</td>\n",
       "      <td>0.0</td>\n",
       "      <td>0.0</td>\n",
       "      <td>0.0</td>\n",
       "      <td>0.0</td>\n",
       "    </tr>\n",
       "    <tr>\n",
       "      <th>Only Love (Magical Love)</th>\n",
       "      <td>0.0</td>\n",
       "      <td>0.0</td>\n",
       "      <td>0.0</td>\n",
       "      <td>0.0</td>\n",
       "      <td>0.0</td>\n",
       "      <td>0.0</td>\n",
       "      <td>0.0</td>\n",
       "      <td>0.0</td>\n",
       "      <td>0.0</td>\n",
       "      <td>0.0</td>\n",
       "      <td>...</td>\n",
       "      <td>0.000000</td>\n",
       "      <td>0.0</td>\n",
       "      <td>0.0</td>\n",
       "      <td>0.0</td>\n",
       "      <td>0.0</td>\n",
       "      <td>0.0</td>\n",
       "      <td>0.0</td>\n",
       "      <td>0.0</td>\n",
       "      <td>0.0</td>\n",
       "      <td>0.0</td>\n",
       "    </tr>\n",
       "    <tr>\n",
       "      <th>The Tao of Pooh</th>\n",
       "      <td>0.0</td>\n",
       "      <td>0.0</td>\n",
       "      <td>0.0</td>\n",
       "      <td>0.0</td>\n",
       "      <td>0.0</td>\n",
       "      <td>0.0</td>\n",
       "      <td>0.0</td>\n",
       "      <td>0.0</td>\n",
       "      <td>0.0</td>\n",
       "      <td>0.0</td>\n",
       "      <td>...</td>\n",
       "      <td>0.000000</td>\n",
       "      <td>0.0</td>\n",
       "      <td>0.0</td>\n",
       "      <td>0.0</td>\n",
       "      <td>0.0</td>\n",
       "      <td>0.0</td>\n",
       "      <td>0.0</td>\n",
       "      <td>0.0</td>\n",
       "      <td>0.0</td>\n",
       "      <td>0.0</td>\n",
       "    </tr>\n",
       "    <tr>\n",
       "      <th>Life of Pi</th>\n",
       "      <td>0.0</td>\n",
       "      <td>0.0</td>\n",
       "      <td>0.0</td>\n",
       "      <td>0.0</td>\n",
       "      <td>0.0</td>\n",
       "      <td>0.0</td>\n",
       "      <td>0.0</td>\n",
       "      <td>0.0</td>\n",
       "      <td>0.0</td>\n",
       "      <td>0.0</td>\n",
       "      <td>...</td>\n",
       "      <td>0.000000</td>\n",
       "      <td>0.0</td>\n",
       "      <td>0.0</td>\n",
       "      <td>0.0</td>\n",
       "      <td>0.0</td>\n",
       "      <td>0.0</td>\n",
       "      <td>0.0</td>\n",
       "      <td>0.0</td>\n",
       "      <td>0.0</td>\n",
       "      <td>0.0</td>\n",
       "    </tr>\n",
       "    <tr>\n",
       "      <th>The Pillars of the Earth</th>\n",
       "      <td>0.0</td>\n",
       "      <td>0.0</td>\n",
       "      <td>0.0</td>\n",
       "      <td>0.0</td>\n",
       "      <td>0.0</td>\n",
       "      <td>0.0</td>\n",
       "      <td>0.0</td>\n",
       "      <td>0.0</td>\n",
       "      <td>0.0</td>\n",
       "      <td>0.0</td>\n",
       "      <td>...</td>\n",
       "      <td>0.000000</td>\n",
       "      <td>0.0</td>\n",
       "      <td>0.0</td>\n",
       "      <td>0.0</td>\n",
       "      <td>0.0</td>\n",
       "      <td>0.0</td>\n",
       "      <td>0.0</td>\n",
       "      <td>0.0</td>\n",
       "      <td>0.0</td>\n",
       "      <td>0.0</td>\n",
       "    </tr>\n",
       "    <tr>\n",
       "      <th>The Street Lawyer</th>\n",
       "      <td>0.0</td>\n",
       "      <td>0.0</td>\n",
       "      <td>0.0</td>\n",
       "      <td>0.0</td>\n",
       "      <td>0.0</td>\n",
       "      <td>0.0</td>\n",
       "      <td>0.0</td>\n",
       "      <td>0.0</td>\n",
       "      <td>0.0</td>\n",
       "      <td>0.0</td>\n",
       "      <td>...</td>\n",
       "      <td>0.000000</td>\n",
       "      <td>0.0</td>\n",
       "      <td>0.0</td>\n",
       "      <td>0.0</td>\n",
       "      <td>0.0</td>\n",
       "      <td>0.0</td>\n",
       "      <td>0.0</td>\n",
       "      <td>0.0</td>\n",
       "      <td>0.0</td>\n",
       "      <td>0.0</td>\n",
       "    </tr>\n",
       "    <tr>\n",
       "      <th>Wicked: The Life and Times of the Wicked Witch of the West</th>\n",
       "      <td>0.0</td>\n",
       "      <td>0.0</td>\n",
       "      <td>0.0</td>\n",
       "      <td>0.0</td>\n",
       "      <td>0.0</td>\n",
       "      <td>0.0</td>\n",
       "      <td>0.0</td>\n",
       "      <td>0.0</td>\n",
       "      <td>0.0</td>\n",
       "      <td>0.0</td>\n",
       "      <td>...</td>\n",
       "      <td>0.000000</td>\n",
       "      <td>0.0</td>\n",
       "      <td>0.0</td>\n",
       "      <td>0.0</td>\n",
       "      <td>0.0</td>\n",
       "      <td>0.0</td>\n",
       "      <td>0.0</td>\n",
       "      <td>0.0</td>\n",
       "      <td>0.0</td>\n",
       "      <td>0.0</td>\n",
       "    </tr>\n",
       "    <tr>\n",
       "      <th>Wild Animus</th>\n",
       "      <td>0.0</td>\n",
       "      <td>0.0</td>\n",
       "      <td>0.0</td>\n",
       "      <td>0.0</td>\n",
       "      <td>0.0</td>\n",
       "      <td>0.0</td>\n",
       "      <td>0.0</td>\n",
       "      <td>0.0</td>\n",
       "      <td>0.0</td>\n",
       "      <td>0.0</td>\n",
       "      <td>...</td>\n",
       "      <td>0.707107</td>\n",
       "      <td>0.0</td>\n",
       "      <td>0.0</td>\n",
       "      <td>0.0</td>\n",
       "      <td>0.0</td>\n",
       "      <td>0.0</td>\n",
       "      <td>0.0</td>\n",
       "      <td>0.0</td>\n",
       "      <td>0.0</td>\n",
       "      <td>0.0</td>\n",
       "    </tr>\n",
       "    <tr>\n",
       "      <th>Bleachers</th>\n",
       "      <td>0.0</td>\n",
       "      <td>0.0</td>\n",
       "      <td>0.0</td>\n",
       "      <td>0.0</td>\n",
       "      <td>0.0</td>\n",
       "      <td>0.0</td>\n",
       "      <td>0.0</td>\n",
       "      <td>0.0</td>\n",
       "      <td>0.0</td>\n",
       "      <td>0.0</td>\n",
       "      <td>...</td>\n",
       "      <td>0.000000</td>\n",
       "      <td>0.0</td>\n",
       "      <td>0.0</td>\n",
       "      <td>0.0</td>\n",
       "      <td>0.0</td>\n",
       "      <td>0.0</td>\n",
       "      <td>0.0</td>\n",
       "      <td>0.0</td>\n",
       "      <td>0.0</td>\n",
       "      <td>0.0</td>\n",
       "    </tr>\n",
       "  </tbody>\n",
       "</table>\n",
       "<p>10 rows × 22 columns</p>\n",
       "</div>"
      ],
      "text/plain": [
       "                                                    morrison  lopez  eleanor  \\\n",
       "Book-Title                                                                     \n",
       "The Ruby in the Smoke (Sally Lockhart Trilogy, ...       0.0    0.0      0.0   \n",
       "The Catcher in the Rye                                   0.0    0.0      0.0   \n",
       "Only Love (Magical Love)                                 0.0    0.0      0.0   \n",
       "The Tao of Pooh                                          0.0    0.0      0.0   \n",
       "Life of Pi                                               0.0    0.0      0.0   \n",
       "The Pillars of the Earth                                 0.0    0.0      0.0   \n",
       "The Street Lawyer                                        0.0    0.0      0.0   \n",
       "Wicked: The Life and Times of the Wicked Witch ...       0.0    0.0      0.0   \n",
       "Wild Animus                                              0.0    0.0      0.0   \n",
       "Bleachers                                                0.0    0.0      0.0   \n",
       "\n",
       "                                                    salinger  heti  plunkett  \\\n",
       "Book-Title                                                                     \n",
       "The Ruby in the Smoke (Sally Lockhart Trilogy, ...       0.0   0.0       0.0   \n",
       "The Catcher in the Rye                                   1.0   0.0       0.0   \n",
       "Only Love (Magical Love)                                 0.0   0.0       0.0   \n",
       "The Tao of Pooh                                          0.0   0.0       0.0   \n",
       "Life of Pi                                               0.0   0.0       0.0   \n",
       "The Pillars of the Earth                                 0.0   0.0       0.0   \n",
       "The Street Lawyer                                        0.0   0.0       0.0   \n",
       "Wicked: The Life and Times of the Wicked Witch ...       0.0   0.0       0.0   \n",
       "Wild Animus                                              0.0   0.0       0.0   \n",
       "Bleachers                                                0.0   0.0       0.0   \n",
       "\n",
       "                                                    schiller  ondaatje  holt  \\\n",
       "Book-Title                                                                     \n",
       "The Ruby in the Smoke (Sally Lockhart Trilogy, ...       0.0       0.0   0.0   \n",
       "The Catcher in the Rye                                   0.0       0.0   0.0   \n",
       "Only Love (Magical Love)                                 0.0       0.0   0.0   \n",
       "The Tao of Pooh                                          0.0       0.0   0.0   \n",
       "Life of Pi                                               0.0       0.0   0.0   \n",
       "The Pillars of the Earth                                 0.0       0.0   0.0   \n",
       "The Street Lawyer                                        0.0       0.0   0.0   \n",
       "Wicked: The Life and Times of the Wicked Witch ...       0.0       0.0   0.0   \n",
       "Wild Animus                                              0.0       0.0   0.0   \n",
       "Bleachers                                                0.0       0.0   0.0   \n",
       "\n",
       "                                                     al  ...      rich  heyer  \\\n",
       "Book-Title                                               ...                    \n",
       "The Ruby in the Smoke (Sally Lockhart Trilogy, ...  0.0  ...  0.000000    0.0   \n",
       "The Catcher in the Rye                              0.0  ...  0.000000    0.0   \n",
       "Only Love (Magical Love)                            0.0  ...  0.000000    0.0   \n",
       "The Tao of Pooh                                     0.0  ...  0.000000    0.0   \n",
       "Life of Pi                                          0.0  ...  0.000000    0.0   \n",
       "The Pillars of the Earth                            0.0  ...  0.000000    0.0   \n",
       "The Street Lawyer                                   0.0  ...  0.000000    0.0   \n",
       "Wicked: The Life and Times of the Wicked Witch ...  0.0  ...  0.000000    0.0   \n",
       "Wild Animus                                         0.0  ...  0.707107    0.0   \n",
       "Bleachers                                           0.0  ...  0.000000    0.0   \n",
       "\n",
       "                                                    kaufman  maron  wolfe  \\\n",
       "Book-Title                                                                  \n",
       "The Ruby in the Smoke (Sally Lockhart Trilogy, ...      0.0    0.0    0.0   \n",
       "The Catcher in the Rye                                  0.0    0.0    0.0   \n",
       "Only Love (Magical Love)                                0.0    0.0    0.0   \n",
       "The Tao of Pooh                                         0.0    0.0    0.0   \n",
       "Life of Pi                                              0.0    0.0    0.0   \n",
       "The Pillars of the Earth                                0.0    0.0    0.0   \n",
       "The Street Lawyer                                       0.0    0.0    0.0   \n",
       "Wicked: The Life and Times of the Wicked Witch ...      0.0    0.0    0.0   \n",
       "Wild Animus                                             0.0    0.0    0.0   \n",
       "Bleachers                                               0.0    0.0    0.0   \n",
       "\n",
       "                                                    rousseau  fay  zimler  \\\n",
       "Book-Title                                                                  \n",
       "The Ruby in the Smoke (Sally Lockhart Trilogy, ...       0.0  0.0     0.0   \n",
       "The Catcher in the Rye                                   0.0  0.0     0.0   \n",
       "Only Love (Magical Love)                                 0.0  0.0     0.0   \n",
       "The Tao of Pooh                                          0.0  0.0     0.0   \n",
       "Life of Pi                                               0.0  0.0     0.0   \n",
       "The Pillars of the Earth                                 0.0  0.0     0.0   \n",
       "The Street Lawyer                                        0.0  0.0     0.0   \n",
       "Wicked: The Life and Times of the Wicked Witch ...       0.0  0.0     0.0   \n",
       "Wild Animus                                              0.0  0.0     0.0   \n",
       "Bleachers                                                0.0  0.0     0.0   \n",
       "\n",
       "                                                    grahame  franken  \n",
       "Book-Title                                                            \n",
       "The Ruby in the Smoke (Sally Lockhart Trilogy, ...      0.0      0.0  \n",
       "The Catcher in the Rye                                  0.0      0.0  \n",
       "Only Love (Magical Love)                                0.0      0.0  \n",
       "The Tao of Pooh                                         0.0      0.0  \n",
       "Life of Pi                                              0.0      0.0  \n",
       "The Pillars of the Earth                                0.0      0.0  \n",
       "The Street Lawyer                                       0.0      0.0  \n",
       "Wicked: The Life and Times of the Wicked Witch ...      0.0      0.0  \n",
       "Wild Animus                                             0.0      0.0  \n",
       "Bleachers                                               0.0      0.0  \n",
       "\n",
       "[10 rows x 22 columns]"
      ]
     },
     "execution_count": 12,
     "metadata": {},
     "output_type": "execute_result"
    }
   ],
   "source": [
    "pd.DataFrame(tfidf_matrix.todense(), \n",
    "             columns=vector.get_feature_names_out(),\n",
    "             index=df['Book-Title']).sample(22, axis=1)\\\n",
    "                                     .sample(10, axis=0)"
   ]
  },
  {
   "cell_type": "markdown",
   "metadata": {},
   "source": [
    "# Data Preparation (Colaborative)"
   ]
  },
  {
   "cell_type": "markdown",
   "metadata": {},
   "source": [
    "## Membuat encoder dan decoder untuk fitur 'User-ID' dan 'Book-Rating'"
   ]
  },
  {
   "cell_type": "code",
   "execution_count": 13,
   "metadata": {},
   "outputs": [],
   "source": [
    "df_colab = df.copy()\n",
    "\n",
    "user_ids = df_colab['User-ID'].unique().tolist()\n",
    "user_encoded = {x: i for i, x in enumerate(user_ids)}\n",
    "user_decoded = {i: x for i, x in enumerate(user_ids)}\n",
    "\n",
    "isbn = df_colab['ISBN'].unique().tolist()\n",
    "isbn_encoded = {x: i for i, x in enumerate(isbn)}\n",
    "isbn_decoded = {i: x for i, x in enumerate(isbn)}\n",
    "\n",
    "df_colab['User'] = df_colab['User-ID'].map(user_encoded)\n",
    "df_colab['Book-ID'] = df_colab['ISBN'].map(isbn_encoded)"
   ]
  },
  {
   "cell_type": "markdown",
   "metadata": {},
   "source": [
    "## Menormalisasi variabel target 'Book-Rating'"
   ]
  },
  {
   "cell_type": "code",
   "execution_count": 14,
   "metadata": {},
   "outputs": [
    {
     "name": "stdout",
     "output_type": "stream",
     "text": [
      "Number of User: 12075, Number of Book: 409, Min Rating: 0 Max Rating: 10\n"
     ]
    }
   ],
   "source": [
    "num_users = len(user_decoded)\n",
    "num_books = len(isbn_decoded)\n",
    "\n",
    "df['Book-Rating'] = df_colab['Book-Rating'].values.astype(np.float32)\n",
    "min_rating = min(df_colab['Book-Rating'])\n",
    "max_rating = max(df_colab['Book-Rating'])\n",
    " \n",
    "print(f'Number of User: {num_users}, Number of Book: {num_books}, Min Rating: {min_rating} Max Rating: {max_rating}')\n",
    "df_colab['Book-Rating'] = df_colab['Book-Rating'].apply(lambda x: (x - min_rating) / (max_rating - min_rating)).values"
   ]
  },
  {
   "cell_type": "markdown",
   "metadata": {},
   "source": [
    "## Mengacak dataframe sebanyak 42 kali"
   ]
  },
  {
   "cell_type": "code",
   "execution_count": 15,
   "metadata": {},
   "outputs": [],
   "source": [
    "df_colab = df_colab.sample(frac=1, random_state=42)"
   ]
  },
  {
   "cell_type": "markdown",
   "metadata": {},
   "source": [
    "## Memisahkan data menjadi data uji dan data latih"
   ]
  },
  {
   "cell_type": "code",
   "execution_count": 16,
   "metadata": {},
   "outputs": [],
   "source": [
    "x = df_colab[['User', 'Book-ID']].values\n",
    "y = df_colab['Book-Rating']\n",
    " \n",
    "train_indices = int(0.8 * df_colab.shape[0])\n",
    "x_train, x_val, y_train, y_val = (\n",
    "    x[:train_indices],\n",
    "    x[train_indices:],\n",
    "    y[:train_indices],\n",
    "    y[train_indices:]\n",
    ")"
   ]
  },
  {
   "cell_type": "markdown",
   "metadata": {},
   "source": [
    "# Modeling (Content-Based)"
   ]
  },
  {
   "cell_type": "markdown",
   "metadata": {},
   "source": [
    "## Membuat vektor cosine similarity"
   ]
  },
  {
   "cell_type": "code",
   "execution_count": 17,
   "metadata": {},
   "outputs": [],
   "source": [
    "from sklearn.metrics.pairwise import cosine_similarity"
   ]
  },
  {
   "cell_type": "code",
   "execution_count": 18,
   "metadata": {},
   "outputs": [
    {
     "data": {
      "text/plain": [
       "array([[1., 0., 0., ..., 0., 0., 0.],\n",
       "       [0., 1., 1., ..., 0., 0., 0.],\n",
       "       [0., 1., 1., ..., 0., 0., 0.],\n",
       "       ...,\n",
       "       [0., 0., 0., ..., 1., 1., 1.],\n",
       "       [0., 0., 0., ..., 1., 1., 1.],\n",
       "       [0., 0., 0., ..., 1., 1., 1.]])"
      ]
     },
     "execution_count": 18,
     "metadata": {},
     "output_type": "execute_result"
    }
   ],
   "source": [
    "cosine_sim = cosine_similarity(tfidf_matrix) \n",
    "cosine_sim"
   ]
  },
  {
   "cell_type": "code",
   "execution_count": 19,
   "metadata": {},
   "outputs": [
    {
     "name": "stdout",
     "output_type": "stream",
     "text": [
      "Shape: (25001, 25001)\n"
     ]
    },
    {
     "data": {
      "text/html": [
       "<div>\n",
       "<style scoped>\n",
       "    .dataframe tbody tr th:only-of-type {\n",
       "        vertical-align: middle;\n",
       "    }\n",
       "\n",
       "    .dataframe tbody tr th {\n",
       "        vertical-align: top;\n",
       "    }\n",
       "\n",
       "    .dataframe thead th {\n",
       "        text-align: right;\n",
       "    }\n",
       "</style>\n",
       "<table border=\"1\" class=\"dataframe\">\n",
       "  <thead>\n",
       "    <tr style=\"text-align: right;\">\n",
       "      <th>Book-Title</th>\n",
       "      <th>The Joy Luck Club</th>\n",
       "      <th>Making Minty Malone</th>\n",
       "      <th>Midnight in the Garden of Good and Evil: A Savannah Story</th>\n",
       "      <th>The Secret Life of Bees</th>\n",
       "      <th>Crow Lake (Today Show Book Club #7)</th>\n",
       "    </tr>\n",
       "    <tr>\n",
       "      <th>Book-Title</th>\n",
       "      <th></th>\n",
       "      <th></th>\n",
       "      <th></th>\n",
       "      <th></th>\n",
       "      <th></th>\n",
       "    </tr>\n",
       "  </thead>\n",
       "  <tbody>\n",
       "    <tr>\n",
       "      <th>Little Altars Everywhere: A Novel</th>\n",
       "      <td>0.0</td>\n",
       "      <td>0.0</td>\n",
       "      <td>0.0</td>\n",
       "      <td>0.0</td>\n",
       "      <td>0.0</td>\n",
       "    </tr>\n",
       "    <tr>\n",
       "      <th>The Secret Life of Bees</th>\n",
       "      <td>0.0</td>\n",
       "      <td>0.0</td>\n",
       "      <td>0.0</td>\n",
       "      <td>1.0</td>\n",
       "      <td>0.0</td>\n",
       "    </tr>\n",
       "    <tr>\n",
       "      <th>Wild Animus</th>\n",
       "      <td>0.0</td>\n",
       "      <td>0.0</td>\n",
       "      <td>0.0</td>\n",
       "      <td>0.0</td>\n",
       "      <td>0.0</td>\n",
       "    </tr>\n",
       "    <tr>\n",
       "      <th>Wild Animus</th>\n",
       "      <td>0.0</td>\n",
       "      <td>0.0</td>\n",
       "      <td>0.0</td>\n",
       "      <td>0.0</td>\n",
       "      <td>0.0</td>\n",
       "    </tr>\n",
       "    <tr>\n",
       "      <th>Babyhood</th>\n",
       "      <td>0.0</td>\n",
       "      <td>0.0</td>\n",
       "      <td>0.0</td>\n",
       "      <td>0.0</td>\n",
       "      <td>0.0</td>\n",
       "    </tr>\n",
       "    <tr>\n",
       "      <th>Girl with a Pearl Earring</th>\n",
       "      <td>0.0</td>\n",
       "      <td>0.0</td>\n",
       "      <td>0.0</td>\n",
       "      <td>0.0</td>\n",
       "      <td>0.0</td>\n",
       "    </tr>\n",
       "    <tr>\n",
       "      <th>The Curious Incident of the Dog in the Night-Time : A Novel</th>\n",
       "      <td>0.0</td>\n",
       "      <td>0.0</td>\n",
       "      <td>0.0</td>\n",
       "      <td>0.0</td>\n",
       "      <td>0.0</td>\n",
       "    </tr>\n",
       "    <tr>\n",
       "      <th>Wild Animus</th>\n",
       "      <td>0.0</td>\n",
       "      <td>0.0</td>\n",
       "      <td>0.0</td>\n",
       "      <td>0.0</td>\n",
       "      <td>0.0</td>\n",
       "    </tr>\n",
       "    <tr>\n",
       "      <th>Secret History</th>\n",
       "      <td>0.0</td>\n",
       "      <td>0.0</td>\n",
       "      <td>0.0</td>\n",
       "      <td>0.0</td>\n",
       "      <td>0.0</td>\n",
       "    </tr>\n",
       "    <tr>\n",
       "      <th>Vinegar Hill (Oprah's Book Club (Paperback))</th>\n",
       "      <td>0.0</td>\n",
       "      <td>0.0</td>\n",
       "      <td>0.0</td>\n",
       "      <td>0.0</td>\n",
       "      <td>0.0</td>\n",
       "    </tr>\n",
       "  </tbody>\n",
       "</table>\n",
       "</div>"
      ],
      "text/plain": [
       "Book-Title                                          The Joy Luck Club  \\\n",
       "Book-Title                                                              \n",
       "Little Altars Everywhere: A Novel                                 0.0   \n",
       "The Secret Life of Bees                                           0.0   \n",
       "Wild Animus                                                       0.0   \n",
       "Wild Animus                                                       0.0   \n",
       "Babyhood                                                          0.0   \n",
       "Girl with a Pearl Earring                                         0.0   \n",
       "The Curious Incident of the Dog in the Night-Ti...                0.0   \n",
       "Wild Animus                                                       0.0   \n",
       "Secret History                                                    0.0   \n",
       "Vinegar Hill (Oprah's Book Club (Paperback))                      0.0   \n",
       "\n",
       "Book-Title                                          Making Minty Malone  \\\n",
       "Book-Title                                                                \n",
       "Little Altars Everywhere: A Novel                                   0.0   \n",
       "The Secret Life of Bees                                             0.0   \n",
       "Wild Animus                                                         0.0   \n",
       "Wild Animus                                                         0.0   \n",
       "Babyhood                                                            0.0   \n",
       "Girl with a Pearl Earring                                           0.0   \n",
       "The Curious Incident of the Dog in the Night-Ti...                  0.0   \n",
       "Wild Animus                                                         0.0   \n",
       "Secret History                                                      0.0   \n",
       "Vinegar Hill (Oprah's Book Club (Paperback))                        0.0   \n",
       "\n",
       "Book-Title                                          Midnight in the Garden of Good and Evil: A Savannah Story  \\\n",
       "Book-Title                                                                                                      \n",
       "Little Altars Everywhere: A Novel                                                                 0.0           \n",
       "The Secret Life of Bees                                                                           0.0           \n",
       "Wild Animus                                                                                       0.0           \n",
       "Wild Animus                                                                                       0.0           \n",
       "Babyhood                                                                                          0.0           \n",
       "Girl with a Pearl Earring                                                                         0.0           \n",
       "The Curious Incident of the Dog in the Night-Ti...                                                0.0           \n",
       "Wild Animus                                                                                       0.0           \n",
       "Secret History                                                                                    0.0           \n",
       "Vinegar Hill (Oprah's Book Club (Paperback))                                                      0.0           \n",
       "\n",
       "Book-Title                                          The Secret Life of Bees  \\\n",
       "Book-Title                                                                    \n",
       "Little Altars Everywhere: A Novel                                       0.0   \n",
       "The Secret Life of Bees                                                 1.0   \n",
       "Wild Animus                                                             0.0   \n",
       "Wild Animus                                                             0.0   \n",
       "Babyhood                                                                0.0   \n",
       "Girl with a Pearl Earring                                               0.0   \n",
       "The Curious Incident of the Dog in the Night-Ti...                      0.0   \n",
       "Wild Animus                                                             0.0   \n",
       "Secret History                                                          0.0   \n",
       "Vinegar Hill (Oprah's Book Club (Paperback))                            0.0   \n",
       "\n",
       "Book-Title                                          Crow Lake (Today Show Book Club #7)  \n",
       "Book-Title                                                                               \n",
       "Little Altars Everywhere: A Novel                                                   0.0  \n",
       "The Secret Life of Bees                                                             0.0  \n",
       "Wild Animus                                                                         0.0  \n",
       "Wild Animus                                                                         0.0  \n",
       "Babyhood                                                                            0.0  \n",
       "Girl with a Pearl Earring                                                           0.0  \n",
       "The Curious Incident of the Dog in the Night-Ti...                                  0.0  \n",
       "Wild Animus                                                                         0.0  \n",
       "Secret History                                                                      0.0  \n",
       "Vinegar Hill (Oprah's Book Club (Paperback))                                        0.0  "
      ]
     },
     "execution_count": 19,
     "metadata": {},
     "output_type": "execute_result"
    }
   ],
   "source": [
    "cosine_sim_df = pd.DataFrame(cosine_sim, index=df['Book-Title'], columns=df['Book-Title'])\n",
    "print('Shape:', cosine_sim_df.shape)\n",
    "\n",
    "cosine_sim_df.sample(5, axis=1).sample(10, axis=0)"
   ]
  },
  {
   "cell_type": "markdown",
   "metadata": {},
   "source": [
    "# Inference (Content-Based)"
   ]
  },
  {
   "cell_type": "markdown",
   "metadata": {},
   "source": [
    "## Membuat dan memanggil fungsi rekomendasi"
   ]
  },
  {
   "cell_type": "code",
   "execution_count": 20,
   "metadata": {},
   "outputs": [],
   "source": [
    "def resto_recommendations(judul_buku, similarity_data=cosine_sim_df, items=df[['Book-Title', 'Book-Author']], k=5):\n",
    "\n",
    "    index = similarity_data.loc[:,judul_buku]\\\n",
    "                           .to_numpy()\\\n",
    "                           .argpartition(range(-1, -k, -1))\n",
    "    closest = similarity_data.columns[index[-1:-(k+2):-1]]\n",
    "    closest = np.unique(closest[closest != judul_buku])\n",
    "\n",
    "    return pd.DataFrame({'Book-Title':closest}).merge(items, on='Book-Title')\\\n",
    "                                               .drop_duplicates()\\\n",
    "                                               .head(k)"
   ]
  },
  {
   "cell_type": "code",
   "execution_count": 21,
   "metadata": {},
   "outputs": [
    {
     "name": "stderr",
     "output_type": "stream",
     "text": [
      "C:\\Users\\User\\AppData\\Local\\Temp\\ipykernel_23404\\2583346188.py:6: FutureWarning: Support for multi-dimensional indexing (e.g. `obj[:, None]`) is deprecated and will be removed in a future version.  Convert to a numpy array before indexing instead.\n",
      "  closest = similarity_data.columns[index[-1:-(k+2):-1]]\n"
     ]
    },
    {
     "data": {
      "text/html": [
       "<div>\n",
       "<style scoped>\n",
       "    .dataframe tbody tr th:only-of-type {\n",
       "        vertical-align: middle;\n",
       "    }\n",
       "\n",
       "    .dataframe tbody tr th {\n",
       "        vertical-align: top;\n",
       "    }\n",
       "\n",
       "    .dataframe thead th {\n",
       "        text-align: right;\n",
       "    }\n",
       "</style>\n",
       "<table border=\"1\" class=\"dataframe\">\n",
       "  <thead>\n",
       "    <tr style=\"text-align: right;\">\n",
       "      <th></th>\n",
       "      <th>Book-Title</th>\n",
       "      <th>Book-Author</th>\n",
       "    </tr>\n",
       "  </thead>\n",
       "  <tbody>\n",
       "    <tr>\n",
       "      <th>0</th>\n",
       "      <td>A Second Chicken Soup for the Woman's Soul (Ch...</td>\n",
       "      <td>Jack Canfield</td>\n",
       "    </tr>\n",
       "    <tr>\n",
       "      <th>8</th>\n",
       "      <td>Clara Callan</td>\n",
       "      <td>Richard Bruce Wright</td>\n",
       "    </tr>\n",
       "    <tr>\n",
       "      <th>22</th>\n",
       "      <td>Classical Mythology</td>\n",
       "      <td>Mark P. O. Morford</td>\n",
       "    </tr>\n",
       "    <tr>\n",
       "      <th>23</th>\n",
       "      <td>Decision in Normandy</td>\n",
       "      <td>Carlo D'Este</td>\n",
       "    </tr>\n",
       "    <tr>\n",
       "      <th>26</th>\n",
       "      <td>Flu: The Story of the Great Influenza Pandemic...</td>\n",
       "      <td>Gina Bari Kolata</td>\n",
       "    </tr>\n",
       "  </tbody>\n",
       "</table>\n",
       "</div>"
      ],
      "text/plain": [
       "                                           Book-Title           Book-Author\n",
       "0   A Second Chicken Soup for the Woman's Soul (Ch...         Jack Canfield\n",
       "8                                        Clara Callan  Richard Bruce Wright\n",
       "22                                Classical Mythology    Mark P. O. Morford\n",
       "23                               Decision in Normandy          Carlo D'Este\n",
       "26  Flu: The Story of the Great Influenza Pandemic...      Gina Bari Kolata"
      ]
     },
     "execution_count": 21,
     "metadata": {},
     "output_type": "execute_result"
    }
   ],
   "source": [
    "resto_recommendations('Animal Farm')"
   ]
  },
  {
   "cell_type": "markdown",
   "metadata": {},
   "source": [
    "# Modeling (Colaborative)"
   ]
  },
  {
   "cell_type": "markdown",
   "metadata": {},
   "source": [
    "## Membuat RecommenderNet dengan embedding layer dan sigmoid activation sebagai output"
   ]
  },
  {
   "cell_type": "code",
   "execution_count": 22,
   "metadata": {},
   "outputs": [],
   "source": [
    "import tensorflow as tf\n",
    "import matplotlib.pyplot as plt"
   ]
  },
  {
   "cell_type": "code",
   "execution_count": 23,
   "metadata": {},
   "outputs": [],
   "source": [
    "class RecommenderNet(tf.keras.Model):\n",
    " \n",
    "  def __init__(self, num_users, num_books, embedding_size, dropout_rate, **kwargs):\n",
    "    super(RecommenderNet, self).__init__(**kwargs)\n",
    "\n",
    "    self.num_users = num_users\n",
    "    self.num_books = num_books\n",
    "    self.embedding_size = embedding_size\n",
    "\n",
    "    self.user_embedding = tf.keras.layers.Embedding(\n",
    "        num_users,\n",
    "        embedding_size,\n",
    "        embeddings_initializer = 'he_normal',\n",
    "        embeddings_regularizer = tf.keras.regularizers.l2(1e-6)\n",
    "    )\n",
    "    self.user_bias = tf.keras.layers.Embedding(num_users, 1) \n",
    "\n",
    "    self.books_embedding = tf.keras.layers.Embedding( \n",
    "        num_books,\n",
    "        embedding_size,\n",
    "        embeddings_initializer = 'he_normal',\n",
    "        embeddings_regularizer = tf.keras.regularizers.l2(1e-6)\n",
    "    )\n",
    "    self.books_bias = tf.keras.layers.Embedding(num_books, 1) \n",
    "\n",
    "    self.dropout = tf.keras.layers.Dropout(dropout_rate)\n",
    " \n",
    "  def call(self, inputs):\n",
    "\n",
    "    user_vector = self.user_embedding(inputs[:, 0])\n",
    "    user_vector = self.dropout(user_vector)\n",
    "    user_bias = self.user_bias(inputs[:, 0])\n",
    "\n",
    "    books_vector = self.books_embedding(inputs[:, 1])\n",
    "    books_vector = self.dropout(books_vector)\n",
    "    books_bias = self.books_bias(inputs[:, 1])\n",
    " \n",
    "    dot_user_resto = tf.tensordot(user_vector, books_vector, 2) \n",
    " \n",
    "    x = dot_user_resto + user_bias + books_bias\n",
    "    \n",
    "    return tf.nn.sigmoid(x) \n"
   ]
  },
  {
   "cell_type": "markdown",
   "metadata": {},
   "source": [
    "## Mengompile model"
   ]
  },
  {
   "cell_type": "code",
   "execution_count": 24,
   "metadata": {},
   "outputs": [],
   "source": [
    "model = RecommenderNet(num_users, num_books, 50, 0.2)\n",
    "\n",
    "model.compile(\n",
    "    loss = tf.keras.losses.BinaryCrossentropy(),\n",
    "    optimizer = tf.keras.optimizers.Adam(learning_rate=0.001),\n",
    "    metrics=[tf.keras.metrics.RootMeanSquaredError()]\n",
    ")"
   ]
  },
  {
   "cell_type": "markdown",
   "metadata": {},
   "source": [
    "## Melatih model"
   ]
  },
  {
   "cell_type": "code",
   "execution_count": 25,
   "metadata": {},
   "outputs": [
    {
     "name": "stdout",
     "output_type": "stream",
     "text": [
      "Epoch 1/100\n",
      "2500/2500 [==============================] - 26s 10ms/step - loss: 0.6504 - root_mean_squared_error: 0.4140 - val_loss: 0.6145 - val_root_mean_squared_error: 0.3914\n",
      "Epoch 2/100\n",
      "2500/2500 [==============================] - 25s 10ms/step - loss: 0.5860 - root_mean_squared_error: 0.3774 - val_loss: 0.6020 - val_root_mean_squared_error: 0.3844\n",
      "Epoch 3/100\n",
      "2500/2500 [==============================] - 25s 10ms/step - loss: 0.5673 - root_mean_squared_error: 0.3666 - val_loss: 0.5972 - val_root_mean_squared_error: 0.3817\n",
      "Epoch 4/100\n",
      "2500/2500 [==============================] - 24s 10ms/step - loss: 0.5526 - root_mean_squared_error: 0.3580 - val_loss: 0.5939 - val_root_mean_squared_error: 0.3800\n",
      "Epoch 5/100\n",
      "2500/2500 [==============================] - 25s 10ms/step - loss: 0.5405 - root_mean_squared_error: 0.3507 - val_loss: 0.5901 - val_root_mean_squared_error: 0.3779\n",
      "Epoch 6/100\n",
      "2500/2500 [==============================] - 25s 10ms/step - loss: 0.5291 - root_mean_squared_error: 0.3440 - val_loss: 0.5881 - val_root_mean_squared_error: 0.3767\n",
      "Epoch 7/100\n",
      "2500/2500 [==============================] - 25s 10ms/step - loss: 0.5178 - root_mean_squared_error: 0.3370 - val_loss: 0.5870 - val_root_mean_squared_error: 0.3762\n",
      "Epoch 8/100\n",
      "2500/2500 [==============================] - 26s 10ms/step - loss: 0.5100 - root_mean_squared_error: 0.3325 - val_loss: 0.5861 - val_root_mean_squared_error: 0.3758\n",
      "Epoch 9/100\n",
      "2500/2500 [==============================] - 25s 10ms/step - loss: 0.5013 - root_mean_squared_error: 0.3271 - val_loss: 0.5851 - val_root_mean_squared_error: 0.3755\n",
      "Epoch 10/100\n",
      "2500/2500 [==============================] - 26s 10ms/step - loss: 0.4920 - root_mean_squared_error: 0.3213 - val_loss: 0.5836 - val_root_mean_squared_error: 0.3748\n",
      "Epoch 11/100\n",
      "2500/2500 [==============================] - 25s 10ms/step - loss: 0.4863 - root_mean_squared_error: 0.3180 - val_loss: 0.5820 - val_root_mean_squared_error: 0.3739\n",
      "Epoch 12/100\n",
      "2500/2500 [==============================] - 25s 10ms/step - loss: 0.4788 - root_mean_squared_error: 0.3133 - val_loss: 0.5810 - val_root_mean_squared_error: 0.3735\n",
      "Epoch 13/100\n",
      "2500/2500 [==============================] - 26s 10ms/step - loss: 0.4714 - root_mean_squared_error: 0.3084 - val_loss: 0.5807 - val_root_mean_squared_error: 0.3734\n",
      "Epoch 14/100\n",
      "2500/2500 [==============================] - 27s 11ms/step - loss: 0.4664 - root_mean_squared_error: 0.3054 - val_loss: 0.5808 - val_root_mean_squared_error: 0.3734\n",
      "Epoch 15/100\n",
      "2500/2500 [==============================] - 28s 11ms/step - loss: 0.4617 - root_mean_squared_error: 0.3024 - val_loss: 0.5817 - val_root_mean_squared_error: 0.3741\n",
      "Epoch 16/100\n",
      "2500/2500 [==============================] - 27s 11ms/step - loss: 0.4551 - root_mean_squared_error: 0.2980 - val_loss: 0.5809 - val_root_mean_squared_error: 0.3737\n",
      "Epoch 17/100\n",
      "2500/2500 [==============================] - 27s 11ms/step - loss: 0.4499 - root_mean_squared_error: 0.2949 - val_loss: 0.5816 - val_root_mean_squared_error: 0.3742\n",
      "Epoch 18/100\n",
      "2500/2500 [==============================] - 27s 11ms/step - loss: 0.4434 - root_mean_squared_error: 0.2903 - val_loss: 0.5823 - val_root_mean_squared_error: 0.3747\n",
      "Epoch 19/100\n",
      "2500/2500 [==============================] - 27s 11ms/step - loss: 0.4398 - root_mean_squared_error: 0.2881 - val_loss: 0.5827 - val_root_mean_squared_error: 0.3749\n",
      "Epoch 20/100\n",
      "2500/2500 [==============================] - 26s 11ms/step - loss: 0.4366 - root_mean_squared_error: 0.2861 - val_loss: 0.5831 - val_root_mean_squared_error: 0.3751\n",
      "Epoch 21/100\n",
      "2500/2500 [==============================] - 26s 10ms/step - loss: 0.4302 - root_mean_squared_error: 0.2818 - val_loss: 0.5840 - val_root_mean_squared_error: 0.3755\n",
      "Epoch 22/100\n",
      "2500/2500 [==============================] - 27s 11ms/step - loss: 0.4271 - root_mean_squared_error: 0.2798 - val_loss: 0.5830 - val_root_mean_squared_error: 0.3749\n",
      "Epoch 23/100\n",
      "2500/2500 [==============================] - 26s 11ms/step - loss: 0.4231 - root_mean_squared_error: 0.2769 - val_loss: 0.5839 - val_root_mean_squared_error: 0.3753\n",
      "Epoch 24/100\n",
      "2500/2500 [==============================] - 25s 10ms/step - loss: 0.4209 - root_mean_squared_error: 0.2758 - val_loss: 0.5838 - val_root_mean_squared_error: 0.3752\n",
      "Epoch 25/100\n",
      "2500/2500 [==============================] - 27s 11ms/step - loss: 0.4159 - root_mean_squared_error: 0.2723 - val_loss: 0.5850 - val_root_mean_squared_error: 0.3758\n",
      "Epoch 26/100\n",
      "2500/2500 [==============================] - 27s 11ms/step - loss: 0.4129 - root_mean_squared_error: 0.2703 - val_loss: 0.5854 - val_root_mean_squared_error: 0.3759\n",
      "Epoch 27/100\n",
      "2500/2500 [==============================] - 26s 11ms/step - loss: 0.4093 - root_mean_squared_error: 0.2678 - val_loss: 0.5865 - val_root_mean_squared_error: 0.3762\n",
      "Epoch 28/100\n",
      "2500/2500 [==============================] - 27s 11ms/step - loss: 0.4064 - root_mean_squared_error: 0.2661 - val_loss: 0.5885 - val_root_mean_squared_error: 0.3772\n",
      "Epoch 29/100\n",
      "2500/2500 [==============================] - 27s 11ms/step - loss: 0.4031 - root_mean_squared_error: 0.2639 - val_loss: 0.5889 - val_root_mean_squared_error: 0.3771\n",
      "Epoch 30/100\n",
      "2500/2500 [==============================] - 26s 11ms/step - loss: 0.4014 - root_mean_squared_error: 0.2626 - val_loss: 0.5901 - val_root_mean_squared_error: 0.3776\n",
      "Epoch 31/100\n",
      "2500/2500 [==============================] - 27s 11ms/step - loss: 0.3977 - root_mean_squared_error: 0.2601 - val_loss: 0.5909 - val_root_mean_squared_error: 0.3777\n",
      "Epoch 32/100\n",
      "2500/2500 [==============================] - 26s 10ms/step - loss: 0.3957 - root_mean_squared_error: 0.2587 - val_loss: 0.5915 - val_root_mean_squared_error: 0.3778\n",
      "Epoch 33/100\n",
      "2500/2500 [==============================] - 26s 10ms/step - loss: 0.3926 - root_mean_squared_error: 0.2564 - val_loss: 0.5932 - val_root_mean_squared_error: 0.3783\n",
      "Epoch 34/100\n",
      "2500/2500 [==============================] - 26s 10ms/step - loss: 0.3899 - root_mean_squared_error: 0.2548 - val_loss: 0.5948 - val_root_mean_squared_error: 0.3788\n",
      "Epoch 35/100\n",
      "2500/2500 [==============================] - 26s 11ms/step - loss: 0.3881 - root_mean_squared_error: 0.2532 - val_loss: 0.5955 - val_root_mean_squared_error: 0.3789\n",
      "Epoch 36/100\n",
      "2500/2500 [==============================] - 26s 10ms/step - loss: 0.3867 - root_mean_squared_error: 0.2526 - val_loss: 0.5965 - val_root_mean_squared_error: 0.3791\n",
      "Epoch 37/100\n",
      "2500/2500 [==============================] - 28s 11ms/step - loss: 0.3833 - root_mean_squared_error: 0.2504 - val_loss: 0.5981 - val_root_mean_squared_error: 0.3797\n",
      "Epoch 38/100\n",
      "2500/2500 [==============================] - 26s 11ms/step - loss: 0.3814 - root_mean_squared_error: 0.2490 - val_loss: 0.6000 - val_root_mean_squared_error: 0.3804\n",
      "Epoch 39/100\n",
      "2500/2500 [==============================] - 27s 11ms/step - loss: 0.3809 - root_mean_squared_error: 0.2487 - val_loss: 0.6016 - val_root_mean_squared_error: 0.3808\n",
      "Epoch 40/100\n",
      "2500/2500 [==============================] - 27s 11ms/step - loss: 0.3788 - root_mean_squared_error: 0.2473 - val_loss: 0.6041 - val_root_mean_squared_error: 0.3816\n",
      "Epoch 41/100\n",
      "2500/2500 [==============================] - 27s 11ms/step - loss: 0.3755 - root_mean_squared_error: 0.2450 - val_loss: 0.6049 - val_root_mean_squared_error: 0.3817\n",
      "Epoch 42/100\n",
      "2500/2500 [==============================] - 27s 11ms/step - loss: 0.3740 - root_mean_squared_error: 0.2439 - val_loss: 0.6060 - val_root_mean_squared_error: 0.3819\n",
      "Epoch 43/100\n",
      "2500/2500 [==============================] - 27s 11ms/step - loss: 0.3720 - root_mean_squared_error: 0.2426 - val_loss: 0.6082 - val_root_mean_squared_error: 0.3825\n",
      "Epoch 44/100\n",
      "2500/2500 [==============================] - 27s 11ms/step - loss: 0.3696 - root_mean_squared_error: 0.2412 - val_loss: 0.6097 - val_root_mean_squared_error: 0.3831\n",
      "Epoch 45/100\n",
      "2500/2500 [==============================] - 27s 11ms/step - loss: 0.3695 - root_mean_squared_error: 0.2413 - val_loss: 0.6114 - val_root_mean_squared_error: 0.3834\n",
      "Epoch 46/100\n",
      "2500/2500 [==============================] - 27s 11ms/step - loss: 0.3673 - root_mean_squared_error: 0.2397 - val_loss: 0.6139 - val_root_mean_squared_error: 0.3843\n",
      "Epoch 47/100\n",
      "2500/2500 [==============================] - 27s 11ms/step - loss: 0.3660 - root_mean_squared_error: 0.2386 - val_loss: 0.6149 - val_root_mean_squared_error: 0.3843\n",
      "Epoch 48/100\n",
      "2500/2500 [==============================] - 27s 11ms/step - loss: 0.3642 - root_mean_squared_error: 0.2376 - val_loss: 0.6167 - val_root_mean_squared_error: 0.3847\n",
      "Epoch 49/100\n",
      "2500/2500 [==============================] - 27s 11ms/step - loss: 0.3633 - root_mean_squared_error: 0.2373 - val_loss: 0.6181 - val_root_mean_squared_error: 0.3849\n",
      "Epoch 50/100\n",
      "2500/2500 [==============================] - 27s 11ms/step - loss: 0.3615 - root_mean_squared_error: 0.2363 - val_loss: 0.6201 - val_root_mean_squared_error: 0.3855\n",
      "Epoch 51/100\n",
      "2500/2500 [==============================] - 27s 11ms/step - loss: 0.3602 - root_mean_squared_error: 0.2351 - val_loss: 0.6223 - val_root_mean_squared_error: 0.3860\n",
      "Epoch 52/100\n",
      "2500/2500 [==============================] - 27s 11ms/step - loss: 0.3593 - root_mean_squared_error: 0.2345 - val_loss: 0.6237 - val_root_mean_squared_error: 0.3862\n",
      "Epoch 53/100\n",
      "2500/2500 [==============================] - 26s 10ms/step - loss: 0.3573 - root_mean_squared_error: 0.2329 - val_loss: 0.6256 - val_root_mean_squared_error: 0.3867\n",
      "Epoch 54/100\n",
      "2500/2500 [==============================] - 26s 11ms/step - loss: 0.3565 - root_mean_squared_error: 0.2331 - val_loss: 0.6270 - val_root_mean_squared_error: 0.3870\n",
      "Epoch 55/100\n",
      "2500/2500 [==============================] - 26s 11ms/step - loss: 0.3551 - root_mean_squared_error: 0.2318 - val_loss: 0.6295 - val_root_mean_squared_error: 0.3878\n",
      "Epoch 56/100\n",
      "2500/2500 [==============================] - 26s 10ms/step - loss: 0.3537 - root_mean_squared_error: 0.2310 - val_loss: 0.6316 - val_root_mean_squared_error: 0.3882\n",
      "Epoch 57/100\n",
      "2500/2500 [==============================] - 26s 11ms/step - loss: 0.3522 - root_mean_squared_error: 0.2298 - val_loss: 0.6326 - val_root_mean_squared_error: 0.3880\n",
      "Epoch 58/100\n",
      "2500/2500 [==============================] - 26s 10ms/step - loss: 0.3513 - root_mean_squared_error: 0.2298 - val_loss: 0.6343 - val_root_mean_squared_error: 0.3882\n",
      "Epoch 59/100\n",
      "2500/2500 [==============================] - 26s 10ms/step - loss: 0.3519 - root_mean_squared_error: 0.2301 - val_loss: 0.6362 - val_root_mean_squared_error: 0.3885\n",
      "Epoch 60/100\n",
      "2500/2500 [==============================] - 26s 10ms/step - loss: 0.3492 - root_mean_squared_error: 0.2283 - val_loss: 0.6384 - val_root_mean_squared_error: 0.3891\n",
      "Epoch 61/100\n",
      "2500/2500 [==============================] - 26s 10ms/step - loss: 0.3482 - root_mean_squared_error: 0.2275 - val_loss: 0.6396 - val_root_mean_squared_error: 0.3892\n",
      "Epoch 62/100\n",
      "2500/2500 [==============================] - 26s 10ms/step - loss: 0.3475 - root_mean_squared_error: 0.2274 - val_loss: 0.6416 - val_root_mean_squared_error: 0.3898\n",
      "Epoch 63/100\n",
      "2500/2500 [==============================] - 26s 11ms/step - loss: 0.3467 - root_mean_squared_error: 0.2268 - val_loss: 0.6436 - val_root_mean_squared_error: 0.3901\n",
      "Epoch 64/100\n",
      "2500/2500 [==============================] - 26s 10ms/step - loss: 0.3455 - root_mean_squared_error: 0.2260 - val_loss: 0.6448 - val_root_mean_squared_error: 0.3902\n",
      "Epoch 65/100\n",
      "2500/2500 [==============================] - 26s 10ms/step - loss: 0.3447 - root_mean_squared_error: 0.2255 - val_loss: 0.6474 - val_root_mean_squared_error: 0.3907\n",
      "Epoch 66/100\n",
      "2500/2500 [==============================] - 26s 10ms/step - loss: 0.3441 - root_mean_squared_error: 0.2251 - val_loss: 0.6492 - val_root_mean_squared_error: 0.3910\n",
      "Epoch 67/100\n",
      "2500/2500 [==============================] - 26s 10ms/step - loss: 0.3436 - root_mean_squared_error: 0.2248 - val_loss: 0.6509 - val_root_mean_squared_error: 0.3913\n",
      "Epoch 68/100\n",
      "2500/2500 [==============================] - 26s 10ms/step - loss: 0.3429 - root_mean_squared_error: 0.2244 - val_loss: 0.6537 - val_root_mean_squared_error: 0.3921\n",
      "Epoch 69/100\n",
      "2500/2500 [==============================] - 26s 10ms/step - loss: 0.3423 - root_mean_squared_error: 0.2240 - val_loss: 0.6556 - val_root_mean_squared_error: 0.3924\n",
      "Epoch 70/100\n",
      "2500/2500 [==============================] - 26s 10ms/step - loss: 0.3407 - root_mean_squared_error: 0.2229 - val_loss: 0.6569 - val_root_mean_squared_error: 0.3924\n",
      "Epoch 71/100\n",
      "2500/2500 [==============================] - 26s 11ms/step - loss: 0.3390 - root_mean_squared_error: 0.2215 - val_loss: 0.6587 - val_root_mean_squared_error: 0.3926\n",
      "Epoch 72/100\n",
      "2500/2500 [==============================] - 26s 10ms/step - loss: 0.3409 - root_mean_squared_error: 0.2235 - val_loss: 0.6607 - val_root_mean_squared_error: 0.3931\n",
      "Epoch 73/100\n",
      "2500/2500 [==============================] - 26s 10ms/step - loss: 0.3395 - root_mean_squared_error: 0.2226 - val_loss: 0.6634 - val_root_mean_squared_error: 0.3937\n",
      "Epoch 74/100\n",
      "2500/2500 [==============================] - 26s 10ms/step - loss: 0.3374 - root_mean_squared_error: 0.2211 - val_loss: 0.6651 - val_root_mean_squared_error: 0.3942\n",
      "Epoch 75/100\n",
      "2500/2500 [==============================] - 26s 10ms/step - loss: 0.3382 - root_mean_squared_error: 0.2222 - val_loss: 0.6674 - val_root_mean_squared_error: 0.3944\n",
      "Epoch 76/100\n",
      "2500/2500 [==============================] - 26s 10ms/step - loss: 0.3377 - root_mean_squared_error: 0.2216 - val_loss: 0.6689 - val_root_mean_squared_error: 0.3946\n",
      "Epoch 77/100\n",
      "2500/2500 [==============================] - 26s 10ms/step - loss: 0.3357 - root_mean_squared_error: 0.2201 - val_loss: 0.6710 - val_root_mean_squared_error: 0.3952\n",
      "Epoch 78/100\n",
      "2500/2500 [==============================] - 26s 10ms/step - loss: 0.3352 - root_mean_squared_error: 0.2200 - val_loss: 0.6717 - val_root_mean_squared_error: 0.3952\n",
      "Epoch 79/100\n",
      "2500/2500 [==============================] - 26s 10ms/step - loss: 0.3355 - root_mean_squared_error: 0.2203 - val_loss: 0.6742 - val_root_mean_squared_error: 0.3955\n",
      "Epoch 80/100\n",
      "2500/2500 [==============================] - 26s 11ms/step - loss: 0.3355 - root_mean_squared_error: 0.2207 - val_loss: 0.6763 - val_root_mean_squared_error: 0.3960\n",
      "Epoch 81/100\n",
      "2500/2500 [==============================] - 27s 11ms/step - loss: 0.3357 - root_mean_squared_error: 0.2205 - val_loss: 0.6771 - val_root_mean_squared_error: 0.3956\n",
      "Epoch 82/100\n",
      "2500/2500 [==============================] - 26s 10ms/step - loss: 0.3349 - root_mean_squared_error: 0.2204 - val_loss: 0.6791 - val_root_mean_squared_error: 0.3959\n",
      "Epoch 83/100\n",
      "2500/2500 [==============================] - 26s 10ms/step - loss: 0.3328 - root_mean_squared_error: 0.2189 - val_loss: 0.6807 - val_root_mean_squared_error: 0.3961\n",
      "Epoch 84/100\n",
      "2500/2500 [==============================] - 26s 10ms/step - loss: 0.3320 - root_mean_squared_error: 0.2184 - val_loss: 0.6822 - val_root_mean_squared_error: 0.3963\n",
      "Epoch 85/100\n",
      "2500/2500 [==============================] - 28s 11ms/step - loss: 0.3314 - root_mean_squared_error: 0.2182 - val_loss: 0.6843 - val_root_mean_squared_error: 0.3966\n",
      "Epoch 86/100\n",
      "2500/2500 [==============================] - 26s 10ms/step - loss: 0.3317 - root_mean_squared_error: 0.2185 - val_loss: 0.6870 - val_root_mean_squared_error: 0.3971\n",
      "Epoch 87/100\n",
      "2500/2500 [==============================] - 26s 10ms/step - loss: 0.3308 - root_mean_squared_error: 0.2177 - val_loss: 0.6882 - val_root_mean_squared_error: 0.3971\n",
      "Epoch 88/100\n",
      "2500/2500 [==============================] - 26s 10ms/step - loss: 0.3316 - root_mean_squared_error: 0.2184 - val_loss: 0.6894 - val_root_mean_squared_error: 0.3972\n",
      "Epoch 89/100\n",
      "2500/2500 [==============================] - 26s 10ms/step - loss: 0.3301 - root_mean_squared_error: 0.2175 - val_loss: 0.6906 - val_root_mean_squared_error: 0.3972\n",
      "Epoch 90/100\n",
      "2500/2500 [==============================] - 26s 10ms/step - loss: 0.3311 - root_mean_squared_error: 0.2184 - val_loss: 0.6939 - val_root_mean_squared_error: 0.3979\n",
      "Epoch 91/100\n",
      "2500/2500 [==============================] - 26s 10ms/step - loss: 0.3300 - root_mean_squared_error: 0.2177 - val_loss: 0.6956 - val_root_mean_squared_error: 0.3979\n",
      "Epoch 92/100\n",
      "2500/2500 [==============================] - 26s 10ms/step - loss: 0.3311 - root_mean_squared_error: 0.2182 - val_loss: 0.6964 - val_root_mean_squared_error: 0.3976\n",
      "Epoch 93/100\n",
      "2500/2500 [==============================] - 26s 10ms/step - loss: 0.3307 - root_mean_squared_error: 0.2186 - val_loss: 0.6988 - val_root_mean_squared_error: 0.3983\n",
      "Epoch 94/100\n",
      "2500/2500 [==============================] - 26s 10ms/step - loss: 0.3283 - root_mean_squared_error: 0.2164 - val_loss: 0.7004 - val_root_mean_squared_error: 0.3983\n",
      "Epoch 95/100\n",
      "2500/2500 [==============================] - 26s 11ms/step - loss: 0.3273 - root_mean_squared_error: 0.2159 - val_loss: 0.7035 - val_root_mean_squared_error: 0.3987\n",
      "Epoch 96/100\n",
      "2500/2500 [==============================] - 26s 10ms/step - loss: 0.3274 - root_mean_squared_error: 0.2163 - val_loss: 0.7047 - val_root_mean_squared_error: 0.3987\n",
      "Epoch 97/100\n",
      "2500/2500 [==============================] - 26s 10ms/step - loss: 0.3265 - root_mean_squared_error: 0.2155 - val_loss: 0.7067 - val_root_mean_squared_error: 0.3992\n",
      "Epoch 98/100\n",
      "2500/2500 [==============================] - 26s 10ms/step - loss: 0.3280 - root_mean_squared_error: 0.2171 - val_loss: 0.7081 - val_root_mean_squared_error: 0.3991\n",
      "Epoch 99/100\n",
      "2500/2500 [==============================] - 26s 10ms/step - loss: 0.3274 - root_mean_squared_error: 0.2167 - val_loss: 0.7096 - val_root_mean_squared_error: 0.3992\n",
      "Epoch 100/100\n",
      "2500/2500 [==============================] - 26s 10ms/step - loss: 0.3269 - root_mean_squared_error: 0.2159 - val_loss: 0.7108 - val_root_mean_squared_error: 0.3990\n"
     ]
    }
   ],
   "source": [
    "history = model.fit(\n",
    "    x = x_train,\n",
    "    y = y_train,\n",
    "    batch_size = 8,\n",
    "    epochs = 100,\n",
    "    validation_data = (x_val, y_val)\n",
    ")"
   ]
  },
  {
   "cell_type": "markdown",
   "metadata": {},
   "source": [
    "# Evaluation"
   ]
  },
  {
   "cell_type": "markdown",
   "metadata": {},
   "source": [
    "## Menilai performa model dengan grafik loss rmse"
   ]
  },
  {
   "cell_type": "code",
   "execution_count": 26,
   "metadata": {},
   "outputs": [
    {
     "data": {
      "image/png": "[encoded data removed]",
      "text/plain": [
       "<Figure size 432x288 with 1 Axes>"
      ]
     },
     "metadata": {
      "needs_background": "light"
     },
     "output_type": "display_data"
    }
   ],
   "source": [
    "plt.plot(history.history['root_mean_squared_error'])\n",
    "plt.plot(history.history['val_root_mean_squared_error'])\n",
    "\n",
    "plt.title('model_metrics')\n",
    "plt.ylabel('root_mean_squared_error')\n",
    "plt.xlabel('epoch')\n",
    "\n",
    "plt.legend(['train', 'test'], loc='upper left')\n",
    "plt.show()"
   ]
  },
  {
   "cell_type": "markdown",
   "metadata": {},
   "source": [
    "# Inference (Colaborative)"
   ]
  },
  {
   "cell_type": "markdown",
   "metadata": {},
   "source": [
    "## Memberi rekomendasi berdasarkan buku yang belum dibaca"
   ]
  },
  {
   "cell_type": "code",
   "execution_count": 72,
   "metadata": {},
   "outputs": [],
   "source": [
    "book_df = df[['ISBN', 'Book-Title', 'Book-Author']].rename(columns={'Book-Title':'Book_Title', 'Book-Author':'Book_Author'})\n",
    "user_id = df_colab['User-ID'].sample(1).iloc[0]\n",
    "book_read_by_user = df_colab[df_colab['User-ID'] == user_id]\n",
    " \n",
    "book_not_read = book_df[~book_df['ISBN'].isin(book_read_by_user['Book-ID'].values)]['ISBN'] \n",
    "book_not_read = list(\n",
    "    set(book_not_read)\n",
    "    .intersection(set(isbn_encoded.keys()))\n",
    ")\n",
    " \n",
    "book_not_read = [[isbn_encoded.get(x)] for x in book_not_read]\n",
    "user_encoder2 = user_encoded.get(user_id)\n",
    "user_book_array = np.hstack(\n",
    "    ([[user_encoder2]] * len(book_not_read), book_not_read)\n",
    ")"
   ]
  },
  {
   "cell_type": "code",
   "execution_count": 81,
   "metadata": {},
   "outputs": [
    {
     "name": "stdout",
     "output_type": "stream",
     "text": [
      "13/13 [==============================] - 0s 1ms/step\n",
      "Showing recommendations for users: 258152\n",
      "===========================\n",
      "Book with high ratings from user\n",
      "--------------------------------\n",
      "The Catcher in the Rye : J.D. Salinger\n",
      "The Pillars of the Earth : Ken Follett\n",
      "--------------------------------\n",
      "Top 10 book recommendation\n",
      "--------------------------------\n",
      "The Adventures of Drew and Ellie: The Magical Dress : Charles Noland\n",
      "If I Ever Get Back to Georgia, I'm Gonna Nail My Feet to the Ground : LEWIS GRIZZARD\n",
      "Der KÃ?Â¶nig in Gelb. : Raymond Chandler\n",
      "Die Mechanismen der Freude. ErzÃ?Â¤hlungen. : Ray Bradbury\n",
      "Die Liebe in Den Zelten : Gabriel Garcia Marquez\n",
      "Eine ganz normale AffÃ?Â¤re. : Joanna Trollope\n",
      "The Golden Compass (His Dark Materials, Book 1) : PHILIP PULLMAN\n",
      "The Subtle Knife (His Dark Materials, Book 2) : PHILIP PULLMAN\n",
      "Martian Chronicles : Ray Bradbury\n",
      "New Perspectives: Runes : Bernard King\n"
     ]
    }
   ],
   "source": [
    "ratings = model.predict(user_book_array).flatten()\n",
    " \n",
    "top_ratings_indices = ratings.argsort()[-10:][::-1]\n",
    "recommended_book_ids = [\n",
    "    isbn_decoded.get(book_not_read[x][0]) for x in top_ratings_indices\n",
    "]\n",
    " \n",
    "print('Showing recommendations for users: {}'.format(user_id))\n",
    "print('===' * 9)\n",
    "print('Book with high ratings from user')\n",
    "print('----' * 8)\n",
    " \n",
    "top_resto_user = (\n",
    "    book_read_by_user.sort_values(\n",
    "        by = 'Book-Rating',\n",
    "        ascending=False\n",
    "    )\n",
    "    .head(5)\n",
    "    .ISBN.values\n",
    ")\n",
    " \n",
    "book_df_rows = book_df[book_df['ISBN'].isin(top_resto_user)]\n",
    "for row in book_df_rows.drop_duplicates().itertuples():\n",
    "    print(row.Book_Title, ':', row.Book_Author)\n",
    " \n",
    "print('----' * 8)\n",
    "print('Top 10 book recommendation')\n",
    "print('----' * 8)\n",
    " \n",
    "recommended_book = book_df[book_df['ISBN'].isin(recommended_book_ids)]\n",
    "for row in recommended_book.drop_duplicates().itertuples():\n",
    "    print(row.Book_Title, ':', row.Book_Author)"
   ]
  },
  {
   "cell_type": "code",
   "execution_count": null,
   "metadata": {},
   "outputs": [],
   "source": []
  }
 ],
 "metadata": {
  "kernelspec": {
   "display_name": "Python 3 (ipykernel)",
   "language": "python",
   "name": "python3"
  }
 },
 "nbformat": 4,
 "nbformat_minor": 2
}
